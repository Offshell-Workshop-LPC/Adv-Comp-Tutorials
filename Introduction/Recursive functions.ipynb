{
 "cells": [
  {
   "cell_type": "markdown",
   "metadata": {},
   "source": [
    "# Exercises in programming"
   ]
  },
  {
   "cell_type": "markdown",
   "metadata": {},
   "source": [
    "## Recursive functions\n",
    "Suppose you have 3 poles. On the leftmost pole, you have $n$ number of disks stacked on top of each other in decreasing radius. You need to stack the disks in the same order on the right pole.\n",
    "- Each move can only happen from the top of the pole.\n",
    "- During the transfer, a disk with a larger radius can never be stacked on top of one with a smaller radius.\n",
    "\n",
    "Find the shortest sequence for $n=2$. $3$, and $4$."
   ]
  },
  {
   "cell_type": "markdown",
   "metadata": {},
   "source": [
    "### Solution\n",
    "This is the classic *Tower of Hanoi* problem. The basic recursive formulation for $n$ disks is to transfer $(n-1)$ of those at the top to the spare pole, transfer the $n^\\text{th}$ disk to the destination, and then transfer the $n-1$ stack to the destination."
   ]
  },
  {
   "cell_type": "code",
   "execution_count": 4,
   "metadata": {},
   "outputs": [
    {
     "name": "stdout",
     "output_type": "stream",
     "text": [
      "Operations for n = 2:\n",
      "Move disk 1 from rod 0 to rod 1.\n",
      "Move disk 2 from rod 0 to rod 2.\n",
      "Move disk 1 from rod 1 to rod 2.\n",
      "Operations for n = 3:\n",
      "Move disk 1 from rod 0 to rod 2.\n",
      "Move disk 2 from rod 0 to rod 1.\n",
      "Move disk 1 from rod 2 to rod 1.\n",
      "Move disk 3 from rod 0 to rod 2.\n",
      "Move disk 1 from rod 1 to rod 0.\n",
      "Move disk 2 from rod 1 to rod 2.\n",
      "Move disk 1 from rod 0 to rod 2.\n",
      "Operations for n = 4:\n",
      "Move disk 1 from rod 0 to rod 1.\n",
      "Move disk 2 from rod 0 to rod 2.\n",
      "Move disk 1 from rod 1 to rod 2.\n",
      "Move disk 3 from rod 0 to rod 1.\n",
      "Move disk 1 from rod 2 to rod 0.\n",
      "Move disk 2 from rod 2 to rod 1.\n",
      "Move disk 1 from rod 0 to rod 1.\n",
      "Move disk 4 from rod 0 to rod 2.\n",
      "Move disk 1 from rod 1 to rod 2.\n",
      "Move disk 2 from rod 1 to rod 0.\n",
      "Move disk 1 from rod 2 to rod 0.\n",
      "Move disk 3 from rod 1 to rod 2.\n",
      "Move disk 1 from rod 0 to rod 1.\n",
      "Move disk 2 from rod 0 to rod 2.\n",
      "Move disk 1 from rod 1 to rod 2.\n"
     ]
    }
   ],
   "source": [
    "def operation(n, src, dest):\n",
    "  aux = 3 - src - dest\n",
    "  if n == 1:\n",
    "    print(f\"Move disk 1 from rod {src} to rod {dest}.\")\n",
    "    return\n",
    "  operation(n - 1, src, aux)\n",
    "  print(f\"Move disk {n} from rod {src} to rod {dest}.\")\n",
    "  operation(n - 1, aux, dest)\n",
    "\n",
    "print(\"Operations for n = 2:\")\n",
    "operation(2, 0, 2)\n",
    "\n",
    "print(\"Operations for n = 3:\")\n",
    "operation(3, 0, 2)\n",
    "\n",
    "print(\"Operations for n = 4:\")\n",
    "operation(4, 0, 2)"
   ]
  },
  {
   "cell_type": "markdown",
   "metadata": {},
   "source": [
    "## Differences in C++ function arguments: Passing by value, pointer, and lvalue and rvalue references\n",
    "Let's first review these types:\n",
    "- An argument passed by *value* is in general a copy of the object passed. If the function modifies the argument, the modification is not visible to the caller.\n",
    "- An argument passed by *reference* **might** [\\*] allow the function modifications on the argument become visible to the caller ([\\*]: **will** if the reference is to a non-constant object, **will not** if the reference has the constant qualifier). There are two types of references, *lvalues* and *rvalues*:\n",
    "  - An *lvalue* reference is what you will encounter most of the time, and this is what most people will refer to when they talk about references in C++. It means the object in question already has an address in the program, and the caller is simply pointing to it.\n",
    "  - An *rvalue* reference does not yet have an address in the program. Examples are literals, function calls that return non-reference types, and temporary objects that are accessible only to the compiler.\n",
    "- A *pointer* is an object the value of which is an address in memory. Passing a pointer with a valid memory address acts in the same way as passing by *lvalue* reference.\n",
    "\n",
    "Compile `exercise_fcnargs.cc` in the repository, identify the different types of arguments, and run it to see what comes out:"
   ]
  },
  {
   "cell_type": "markdown",
   "metadata": {},
   "source": [
    "### Possible printout:\n",
    "\n",
    "```\n",
    "Value of n: 3, address of n : 0059FB7C\n",
    "Pass by value: 3, address: 0059FB58\n",
    "Pass by value: 5, address: 0059FB58\n",
    "Value of ptr_n: 0059FB7C, value of its object: 3\n",
    "Passed a constant reference to a pointer 0059FB7C with value *n = 3\n",
    "Value of ref_n: 9, address of ref_n: 0059FB7C\n",
    "Passed pointer 0059FB7C to constant value *n = 9\n",
    "Value of d: 3.14, address of d: 0059FB6C\n",
    "Pass by non-const lvalue reference: 3.14, address: 0059FB6C\n",
    "Value of dc: 2.3, address of dc: 0059FB64\n",
    "Pass by const lvalue reference: 2.3, address: 0059FB64\n",
    "Pass by non-const rvalue reference: 4.5, address: 0059FB5C\n",
    "Pass by non-const rvalue reference: 7.2, address: 0059FB6C\n",
    "Value of d (= 3.14) after call with std::move(d): 9.3, address: 0059FB6C\n",
    "Pass by const rvalue reference: 2.3, address: 0059FB64\n",
    "Value of dc (= 2.3) after call with std::move(dc): 2.3, address: 0059FB64\n",
    "```"
   ]
  },
  {
   "cell_type": "markdown",
   "metadata": {},
   "source": [
    "In this example,\n",
    "- Note that passing the variables `d` and `dc` to `std::move` marked them as *transferable*. For that reason, the functions with *rvalue* references are called the second time.\n",
    "- Notice also the difference between arguments `int const* n` (also could be written as `const int* n`) and `int* const& n`. In the first case, the pointer points to a constant integer, whereas in the second case, the pointer is constant, but its value is **not**. In general, read parameter types *from right to left* after putting qualifiers (`const`) to the right, e.g., read `const int*` $\\to$ `int const*` as \"pointer to constant integer\", and `int* const&` as \"reference to constant pointer to an integer\".\n",
    "\n",
    "  - Try reading `const int* const&`."
   ]
  },
  {
   "cell_type": "markdown",
   "metadata": {},
   "source": []
  }
 ],
 "metadata": {
  "kernelspec": {
   "display_name": "Python 3",
   "language": "python",
   "name": "python3"
  },
  "language_info": {
   "codemirror_mode": {
    "name": "ipython",
    "version": 3
   },
   "file_extension": ".py",
   "mimetype": "text/x-python",
   "name": "python",
   "nbconvert_exporter": "python",
   "pygments_lexer": "ipython3",
   "version": "3.10.11"
  }
 },
 "nbformat": 4,
 "nbformat_minor": 2
}
