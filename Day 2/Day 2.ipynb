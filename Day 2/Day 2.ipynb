{
 "cells": [
  {
   "cell_type": "markdown",
   "metadata": {},
   "source": [
    "# Day 2: Automatic differentiation, and introduction to CUDA"
   ]
  },
  {
   "cell_type": "markdown",
   "metadata": {},
   "source": [
    "## Automatic differentiation\n",
    "\n",
    "Having knowledge of the gradients of a multivariable function with respect to its arguments is a powerful tool in mathematical computations, e.g., in\n",
    "- computing Hessians for optimization problems or extracting uncertainties in a likelihood:\n",
    "$$\\begin{bmatrix} \\frac{\\delta^2 f}{\\delta x_1^2} & \\frac{\\delta^2 f}{\\delta x_1 \\delta x_2} \\\\ \\frac{\\delta^2 f}{\\delta x_1 \\delta x_2} & \\frac{\\delta^2 f}{\\delta x_2^2} \\end{bmatrix}$$\n",
    "- computing gradients to find descent to minimum loss in machine learning:\n",
    "$$\\vec{x}_{n+1} = \\vec{x}_n - \\gamma \\nabla L(\\vec{x})|_{\\vec{x}=\\vec{x}_n}$$\n",
    "\n",
    "\n",
    "There are several ways to compute gradients:\n",
    "- Use symbolic language that maps function names to their definitions and other functions for derivatives. Here is an example using Mathematica:\n",
    "![Derivatives in Mathematica](mathematica_screnshot_diff.png)\n",
    "- Use numerical differentiation with small step sizes.\n",
    "- Embed differentials into variable definitions in programming (**automatic differentiation** - topic of today!).\n",
    "\n",
    "Suppose we have a function $f(g(h(x)))$. The chain rule gives us\n",
    "$$v=h(x)$$\n",
    "$$u=g(v)$$\n",
    "$$y=f(u)$$\n",
    "$$\\frac{\\delta f}{\\delta x} = \\frac{\\delta y}{\\delta u} \\frac{\\delta u}{\\delta v} \\frac{\\delta v}{\\delta x}$$\n",
    "\n",
    "This gives us two directions from which we can start differentiation:\n",
    "- Forward: $\\frac{\\delta y}{\\delta u} \\frac{\\delta u}{\\delta v} \\frac{\\delta v}{\\delta x} \\leftarrow$ start computing derivatives in this direction.\n",
    "- Reverse: start computing derivatives in this direction $\\rightarrow \\frac{\\delta y}{\\delta u} \\frac{\\delta u}{\\delta v} \\frac{\\delta v}{\\delta x}$.\n",
    "\n",
    "Why does it matter? Don't we have the same number of derivatives?\n",
    "\n",
    "$\\rightarrow$ That is correct, but for a function $f: U^n \\to V^m$, we would have a different number of matrix multiplication steps (derivatives $\\equiv$ Jacobian matrices). For the sake of example, assume the dimensionality $k$ for both $g$ and $h$. Then,\n",
    "- forward differentiation involves $(n \\times k^2) + (n \\times k \\times m)$ multiplications, whereas\n",
    "- reverse differentiation would need $(m \\times k^2) + (n \\times k \\times m)$ multiplications.\n",
    "\n",
    "If $n \\cong m$, or $k$ is not large compared to $n$ or $m$, the direction does not matter much. On the other hand, if $k$ is large, it is better to use forward differentiation for $n \\ll m$, and reverse differentiation otherwise.\n",
    "\n",
    "In a typical neural network, gradient descent uses *forward propagation* to calculate the cost for a given loss function , and *backpropagation* (through reverse autodifferentiation - **why?**) to calculate gradients of the cost with respect to the weights at each layer.\n",
    "\n",
    "### Exercise: Dual numbers\n",
    "Consider an extension of a real variable $r \\to (r, \\delta r)$. Denoting $u = (x, \\delta x)$ and $v = (y, \\delta y)$, define the minimal set of algebraic properties as follows:\n",
    "- $-u = (-x, -\\delta x)$\n",
    "- $u^{-1} = (1/x, -\\delta x/x^2)$\n",
    "- $u+v = (x+y, \\delta x + \\delta y)$\n",
    "- $u \\times v = (x \\times y, y \\times \\delta x + x \\times \\delta y)$\n",
    "\n",
    "For $f(x, y) = x^{2 y^3}$, write a simple Python script to compute $f(2,3)$ and $\\frac{\\delta f}{\\delta y} |_{(x,y)=(2,3)}$."
   ]
  },
  {
   "cell_type": "markdown",
   "metadata": {},
   "source": [
    "#### Solution:"
   ]
  },
  {
   "cell_type": "code",
   "execution_count": 12,
   "metadata": {},
   "outputs": [
    {
     "name": "stdout",
     "output_type": "stream",
     "text": [
      "18014398509481984 6.742779949618588e+17\n"
     ]
    }
   ],
   "source": [
    "import numpy as np\n",
    "\n",
    "class DualValue:\n",
    "  def __init__(self, value, differential):\n",
    "    self.value = value\n",
    "    self.differential = differential\n",
    "  def __add__(self, other):\n",
    "    return DualValue(self.value + other.value, self.differential + other.differential)\n",
    "  def __radd__(self, other):\n",
    "    return DualValue(self.value + other, self.differential)\n",
    "  def __sub__(self, other):\n",
    "    return DualValue(self.value - other.value, self.differential - other.differential)\n",
    "  def __rsub__(self, other):\n",
    "    return DualValue(other - self.value, -self.differential)\n",
    "  def __mul__(self, other):\n",
    "    return DualValue(self.value * other.value, self.differential * other.value + self.value * other.differential)\n",
    "  def __rmul__(self, other):\n",
    "    return DualValue(self.value * other, self.differential * other)\n",
    "  def __truediv__(self, other):\n",
    "    return DualValue(self.value / other.value, (self.differential * other.value - self.value * other.differential) / (other.value * other.value))\n",
    "  def __rtruediv__(self, other):\n",
    "    return DualValue(other / self.value, -self.differential * other / (self.value * self.value))\n",
    "  def __neg__(self):\n",
    "    return DualValue(-self.value, -self.differential)\n",
    "  def __lt__(self, other):\n",
    "    return self.value < other.value\n",
    "  def __le__(self, other):\n",
    "    return self.value <= other.value\n",
    "  def __eq__(self, other):\n",
    "    return self.value == other.value\n",
    "  def __ne__(self, other):\n",
    "    return self.value != other.value\n",
    "  def __gt__(self, other):\n",
    "    return self.value > other.value\n",
    "  def __ge__(self, other):\n",
    "    return self.value >= other.value\n",
    "  def __abs__(self):\n",
    "    return DualValue(abs(self.value), self.differential * np.sign(self.value))\n",
    "  def __str__(self):\n",
    "    return str(self.value)\n",
    "  def __pow__(self, other):\n",
    "    if isinstance(other, DualValue):\n",
    "      return DualValue(self.value**other.value, self.value**other.value * other.differential * np.log(self.value) + self.differential * other.value * self.value**(other.value - 1))\n",
    "    else:\n",
    "      return DualValue(self.value**other, other * self.value**(other - 1) * self.differential)\n",
    "  def __rpow__(self, other):\n",
    "    return DualValue(other**self.value, other**self.value * self.differential * np.log(other))\n",
    "  \n",
    "x = DualValue(2, 0)\n",
    "y = DualValue(3, 1)\n",
    "\n",
    "f = x**(2*y**3)\n",
    "print(f.value, f.differential)"
   ]
  },
  {
   "cell_type": "markdown",
   "metadata": {},
   "source": [
    "## Using Tensorflow for automatic differentiation\n",
    "\n",
    "The main TensorFlow object that allows tracking gradients with respect to some input operations is `GradientTape`. Here is an example way to use it:"
   ]
  },
  {
   "cell_type": "code",
   "execution_count": 44,
   "metadata": {},
   "outputs": [
    {
     "name": "stdout",
     "output_type": "stream",
     "text": [
      "F(2,3) = 1.8014398509481984e+16\n",
      "df/dx | (x,y)=(2,3) = 4.863887597560136e+17\n",
      "df/dy | (x,y)=(2,3) = 6.742779949618587e+17\n"
     ]
    }
   ],
   "source": [
    "import tensorflow as tf\n",
    "\n",
    "# Could have also written\n",
    "# x = tf.Variable(2.)\n",
    "# but not\n",
    "# x = tf.Variable(2)\n",
    "# Integer types are not considered differentiable by default.\n",
    "x = tf.Variable(2, dtype=tf.float64)\n",
    "y = tf.Variable(3, dtype=tf.float64)\n",
    "with tf.GradientTape() as tape:\n",
    "  f = x**(2*y**3)\n",
    "\n",
    "df = tape.gradient(f, [x, y])\n",
    "\n",
    "print(f\"F(2,3) = {f.numpy()}\")\n",
    "print(f\"df/dx | (x,y)=(2,3) = {df[0].numpy()}\")\n",
    "print(f\"df/dy | (x,y)=(2,3) = {df[1].numpy()}\")"
   ]
  },
  {
   "cell_type": "markdown",
   "metadata": {},
   "source": [
    "You can also take second-order derivatives. Note that a GradientTape is released as soon as you call the function `gradient`, unless you make it a persistent object."
   ]
  },
  {
   "cell_type": "code",
   "execution_count": 46,
   "metadata": {},
   "outputs": [
    {
     "name": "stdout",
     "output_type": "stream",
     "text": [
      "d2 f / dx2 =  1.288930213353436e+19\n",
      "d2 f / dxdy =  1.8691894623726203e+19\n",
      "d2 f / dydx =  1.86918946237262e+19\n",
      "d2 f / dy2 =  2.5687708783864877e+19\n"
     ]
    }
   ],
   "source": [
    "x = tf.Variable(2, dtype=tf.float64)\n",
    "y = tf.Variable(3, dtype=tf.float64)\n",
    "\n",
    "with tf.GradientTape(persistent=True) as t2:\n",
    "  with tf.GradientTape() as t1:\n",
    "    f = x**(2*y**3)\n",
    "  df = t1.gradient(f, [x, y])\n",
    "d_df_dx = t2.gradient(df[0], [x, y])\n",
    "d_df_dy = t2.gradient(df[1], [x, y])\n",
    "\n",
    "print(\"d2 f / dx2 = \", d_df_dx[0].numpy())\n",
    "print(\"d2 f / dxdy = \", d_df_dx[1].numpy())\n",
    "print(\"d2 f / dydx = \", d_df_dy[0].numpy()) # Should be the same as d2 f / dxdy\n",
    "print(\"d2 f / dy2 = \", d_df_dy[1].numpy())\n",
    "del(t2)"
   ]
  },
  {
   "cell_type": "markdown",
   "metadata": {},
   "source": [
    "By default, constants and tensors are not watched. You can instruct the `GradientTape` to watch them."
   ]
  },
  {
   "cell_type": "code",
   "execution_count": 59,
   "metadata": {},
   "outputs": [
    {
     "name": "stdout",
     "output_type": "stream",
     "text": [
      "dz/dw = [[  8.  16.  24.  32.]\n",
      " [ -1.  -2.  -3.  -4.]\n",
      " [ -8. -16. -24. -32.]\n",
      " [  6.  12.  18.  24.]]\n",
      "dz/dx = [[ 0.5]\n",
      " [16. ]\n",
      " [ 6. ]\n",
      " [ 8. ]]\n",
      "dz/db = [[ 8.]\n",
      " [-1.]\n",
      " [-8.]\n",
      " [ 6.]]\n"
     ]
    }
   ],
   "source": [
    "w = tf.constant(np.array([0, 2, 0, 0,  -0.5, 0, 0, 0,  0, 0, 0, -1,  0, 0, 1, 0]).reshape(4, 4), dtype=tf.float64)\n",
    "x = tf.Variable(np.array([1, 2, 3, 4]).reshape(4,1), dtype=tf.float64)\n",
    "b = tf.constant(np.array([0, 0, 0, 0]).reshape(4, 1), dtype=tf.float64)\n",
    "\n",
    "with tf.GradientTape(persistent=True) as tape:\n",
    "  tape.watch(w)\n",
    "  tape.watch(b)\n",
    "  y = w @ x + b\n",
    "  z = tf.reduce_sum(y**2)\n",
    "\n",
    "dz_dw = tape.jacobian(z, w)\n",
    "dz_dx = tape.jacobian(z, x)\n",
    "dz_db = tape.jacobian(z, b)\n",
    "print(f\"dz/dw = {dz_dw.numpy()}\")\n",
    "print(f\"dz/dx = {dz_dx.numpy()}\")\n",
    "print(f\"dz/db = {dz_db.numpy()}\")\n",
    "del(tape)"
   ]
  },
  {
   "cell_type": "markdown",
   "metadata": {},
   "source": [
    "### Exercise: Mean squared error (MSE) function for a linear data with uncertainties\n",
    "\n",
    "Collect 100 random data points between $0 \\le x \\le 1$ that could fit $y=3x+2$, with $\\sigma_y=0.1$.\n",
    "\n",
    "Write an MSE to describe the data and fit it using TensorFlow."
   ]
  },
  {
   "cell_type": "markdown",
   "metadata": {},
   "source": [
    "#### Solution:"
   ]
  },
  {
   "cell_type": "code",
   "execution_count": 115,
   "metadata": {},
   "outputs": [
    {
     "name": "stdout",
     "output_type": "stream",
     "text": [
      "Fitted a = 3.004564747032262, b = 2.0078125173660473\n"
     ]
    },
    {
     "data": {
      "image/png": "[encoded data removed]",
      "text/plain": [
       "<Figure size 432x288 with 1 Axes>"
      ]
     },
     "metadata": {
      "needs_background": "light"
     },
     "output_type": "display_data"
    }
   ],
   "source": [
    "import matplotlib.pyplot as plt\n",
    "\n",
    "xdata = np.random.rand(100, 1)\n",
    "ydata = 3*xdata + 2 + np.random.randn(100, 1)/10\n",
    "\n",
    "a = tf.Variable(0, dtype=tf.float64)\n",
    "b = tf.Variable(0, dtype=tf.float64)\n",
    "x = tf.constant(xdata, dtype=tf.float64)\n",
    "yobs = tf.constant(ydata, dtype=tf.float64)\n",
    "\n",
    "learning_rate = 0.05\n",
    "for i in range(2000):\n",
    "  with tf.GradientTape() as tape:\n",
    "    y = a*x+b\n",
    "    mse = tf.reduce_sum((y - yobs)**2/xdata.shape[0])\n",
    "  da, db = tape.gradient(mse, [a, b])\n",
    "  a.assign_sub(learning_rate*da)\n",
    "  b.assign_sub(learning_rate*db)\n",
    "\n",
    "del(tape)\n",
    "\n",
    "plt.scatter(xdata, ydata)\n",
    "plt.plot(xdata, a*xdata+b, 'r')\n",
    "\n",
    "print(f\"Fitted a = {a.numpy()}, b = {b.numpy()}\")"
   ]
  },
  {
   "cell_type": "markdown",
   "metadata": {},
   "source": [
    "## Introduction to CUDA"
   ]
  },
  {
   "cell_type": "markdown",
   "metadata": {},
   "source": []
  }
 ],
 "metadata": {
  "kernelspec": {
   "display_name": "Python 3",
   "language": "python",
   "name": "python3"
  },
  "language_info": {
   "codemirror_mode": {
    "name": "ipython",
    "version": 3
   },
   "file_extension": ".py",
   "mimetype": "text/x-python",
   "name": "python",
   "nbconvert_exporter": "python",
   "pygments_lexer": "ipython3",
   "version": "3.10.11"
  }
 },
 "nbformat": 4,
 "nbformat_minor": 2
}
