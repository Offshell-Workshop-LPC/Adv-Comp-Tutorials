{
 "cells": [
  {
   "cell_type": "markdown",
   "metadata": {},
   "source": [
    "# Exercises in programming"
   ]
  },
  {
   "cell_type": "markdown",
   "metadata": {},
   "source": [
    "## Recursive functions\n",
    "Suppose you have 3 poles. On the leftmost pole, you have $n$ number of disks stacked on top of each other in decreasing radius. You need to stack the disks in the same order on the right pole.\n",
    "- Each move can only happen from the top of the pole.\n",
    "- During the transfer, a disk with a larger radius can never be stacked on top of one with a smaller radius.\n",
    "\n",
    "Find the shortest sequence for $n=2$. $3$, and $4$."
   ]
  },
  {
   "cell_type": "markdown",
   "metadata": {},
   "source": [
    "### Solution\n",
    "This is the classic *Tower of Hanoi* problem. The basic recursive formulation for $n$ disks is to transfer $(n-1)$ of those at the top to the spare pole, transfer the $n^\\text{th}$ disk to the destination, and then transfer the $n-1$ stack to the destination."
   ]
  },
  {
   "cell_type": "code",
   "execution_count": 4,
   "metadata": {},
   "outputs": [
    {
     "name": "stdout",
     "output_type": "stream",
     "text": [
      "Operations for n = 2:\n",
      "Move disk 1 from rod 0 to rod 1.\n",
      "Move disk 2 from rod 0 to rod 2.\n",
      "Move disk 1 from rod 1 to rod 2.\n",
      "Operations for n = 3:\n",
      "Move disk 1 from rod 0 to rod 2.\n",
      "Move disk 2 from rod 0 to rod 1.\n",
      "Move disk 1 from rod 2 to rod 1.\n",
      "Move disk 3 from rod 0 to rod 2.\n",
      "Move disk 1 from rod 1 to rod 0.\n",
      "Move disk 2 from rod 1 to rod 2.\n",
      "Move disk 1 from rod 0 to rod 2.\n",
      "Operations for n = 4:\n",
      "Move disk 1 from rod 0 to rod 1.\n",
      "Move disk 2 from rod 0 to rod 2.\n",
      "Move disk 1 from rod 1 to rod 2.\n",
      "Move disk 3 from rod 0 to rod 1.\n",
      "Move disk 1 from rod 2 to rod 0.\n",
      "Move disk 2 from rod 2 to rod 1.\n",
      "Move disk 1 from rod 0 to rod 1.\n",
      "Move disk 4 from rod 0 to rod 2.\n",
      "Move disk 1 from rod 1 to rod 2.\n",
      "Move disk 2 from rod 1 to rod 0.\n",
      "Move disk 1 from rod 2 to rod 0.\n",
      "Move disk 3 from rod 1 to rod 2.\n",
      "Move disk 1 from rod 0 to rod 1.\n",
      "Move disk 2 from rod 0 to rod 2.\n",
      "Move disk 1 from rod 1 to rod 2.\n"
     ]
    }
   ],
   "source": [
    "def operation(n, src, dest):\n",
    "  aux = 3 - src - dest\n",
    "  if n == 1:\n",
    "    print(f\"Move disk 1 from rod {src} to rod {dest}.\")\n",
    "    return\n",
    "  operation(n - 1, src, aux)\n",
    "  print(f\"Move disk {n} from rod {src} to rod {dest}.\")\n",
    "  operation(n - 1, aux, dest)\n",
    "\n",
    "print(\"Operations for n = 2:\")\n",
    "operation(2, 0, 2)\n",
    "\n",
    "print(\"Operations for n = 3:\")\n",
    "operation(3, 0, 2)\n",
    "\n",
    "print(\"Operations for n = 4:\")\n",
    "operation(4, 0, 2)"
   ]
  },
  {
   "cell_type": "markdown",
   "metadata": {},
   "source": [
    "## Differences in C++ function arguments: Passing by value, pointer, and lvalue and rvalue references\n",
    "Let's first review these types:\n",
    "- An argument passed by *value* is in general a copy of the object passed. If the function modifies the argument, the modification is not visible to the caller.\n",
    "- An argument passed by *reference* **might** [\\*] allow the function modifications on the argument become visible to the caller ([\\*]: **will** if the reference is to a non-constant object, **will not** if the reference has the constant qualifier). There are two types of references, *lvalues* and *rvalues*:\n",
    "  - An *lvalue* reference is what you will encounter most of the time, and this is what most people will refer to when they talk about references in C++. It means the object in question already has an address in the program, and the caller is simply pointing to it.\n",
    "  - An *rvalue* reference does not yet have an address in the program. Examples are literals, function calls that return non-reference types, and temporary objects that are accessible only to the compiler.\n",
    "- A *pointer* is an object the value of which is an address in memory. Passing a pointer with a valid memory address acts in the same way as passing by *lvalue* reference.\n",
    "\n",
    "Compile `exercise_fcnargs.cc` in the repository, identify the different types of arguments, and run it to see what comes out:"
   ]
  },
  {
   "cell_type": "markdown",
   "metadata": {},
   "source": [
    "### Possible printout:\n",
    "\n",
    "```\n",
    "Value of n: 3, address of n : 0059FB7C\n",
    "Pass by value: 3, address: 0059FB58\n",
    "Pass by value: 5, address: 0059FB58\n",
    "Value of ptr_n: 0059FB7C, value of its object: 3\n",
    "Passed a constant reference to a pointer 0059FB7C with value *n = 3\n",
    "Value of ref_n: 9, address of ref_n: 0059FB7C\n",
    "Passed pointer 0059FB7C to constant value *n = 9\n",
    "Value of d: 3.14, address of d: 0059FB6C\n",
    "Pass by non-const lvalue reference: 3.14, address: 0059FB6C\n",
    "Value of dc: 2.3, address of dc: 0059FB64\n",
    "Pass by const lvalue reference: 2.3, address: 0059FB64\n",
    "Pass by non-const rvalue reference: 4.5, address: 0059FB5C\n",
    "Pass by non-const rvalue reference: 7.2, address: 0059FB6C\n",
    "Value of d (= 3.14) after call with std::move(d): 9.3, address: 0059FB6C\n",
    "Pass by const rvalue reference: 2.3, address: 0059FB64\n",
    "Value of dc (= 2.3) after call with std::move(dc): 2.3, address: 0059FB64\n",
    "```"
   ]
  },
  {
   "cell_type": "markdown",
   "metadata": {},
   "source": [
    "In this example,\n",
    "- Note that passing the variables `d` and `dc` to `std::move` marked them as *transferable*. For that reason, the functions with *rvalue* references are called the second time.\n",
    "- Notice also the difference between arguments `int const* n` (also could be written as `const int* n`) and `int* const& n`. In the first case, the pointer points to a constant integer, whereas in the second case, the pointer is constant, but its value is **not**. In general, read parameter types *from right to left* after putting qualifiers (`const`) to the right, e.g., read `const int*` $\\to$ `int const*` as \"pointer to constant integer\", and `int* const&` as \"reference to constant pointer to an integer\".\n",
    "\n",
    "  - Try reading `const int* const&`."
   ]
  },
  {
   "cell_type": "markdown",
   "metadata": {},
   "source": [
    "## Templates in C++\n",
    "You may want to define functions and classes for multiple types. One way to do it is\n",
    "```\n",
    "void print_value(int const& n){/* Do something for integer arguments */}\n",
    "void print_value(double const& n){/* Do something similar for double-precision floating type arguments */}\n",
    "```\n",
    "For a small number of choices, this is probably faster to code. What happens if you have a plethora of types? The general solution is to use \"template\"s.\n",
    "\n",
    "Examine `exercise_templates.cc` and run it."
   ]
  },
  {
   "cell_type": "markdown",
   "metadata": {},
   "source": [
    "### Expected printout:\n",
    "```\n",
    "Value is 5.\n",
    "Value is 2.3.\n",
    "Twice the value of the float 5.1 is 10.2.\n",
    "Value is 7.25.\n",
    "Value is 1.221.\n",
    "Twice the value of the float 1.221 is 2.442.\n",
    "Value is -87.\n",
    "```"
   ]
  },
  {
   "cell_type": "markdown",
   "metadata": {},
   "source": [
    "The syntax `template<typename T> ...` indicates that what you are about to declare or define will use an arbitrary typename T. If type T is a class with member functions, every call to its member functions needs to be valid. For example, if you call `x.value()` for `x` of type `T`, `T` must have this function, e.g., `T` cannot be a `float`.\n",
    "\n",
    "Templates can be specialized. Take a look at the syntax of `template<> void print_value(float const& x)`. `template<>` indicates this is a specialization. In function specializations, the arguments should be of the same general signature. For the template `template<typename T> void print_value(T const& x)`,\n",
    "- This is a valid specialization: `template<> void print_value(float const& x)` (or `template<> void print_value<float>(float const& x)` to write it more explicitly).\n",
    "- This is not: `template<> void print_value(float&& x)`.\n",
    "\n",
    "If you want to have `void print_value(float&& x)`, you can simply define it without `template<>`. That would make it an **overload**, not a *specialization*.\n",
    "\n",
    "Function template specializations also have to be *complete*. You cannot have, for example, `template<typename T> void print_value<TestClass<T>>(TestClass<T> const& x)`. For each possible type T that TestClass can take, you must define `print_value<TestClass<T>>` separately.\n",
    "\n",
    "That naturally brings us to the specialization of classes. Here, you can have **partial-specializations**. As you can see in the example, for the template `template<typename T> struct TestClass`, we could define fully and partially specialized cases:\n",
    "- Full specialization for `T` $\\to$ `float`: `template<> struct TestClass<float>`.\n",
    "- Partial specialization for `T` $\\to$ `TestClass<T>`: `template<typename T> struct TestClass<TestClass<T>>`. Notice here that the template argument list is not empty and contains a different, arbitrary type `T`."
   ]
  },
  {
   "cell_type": "markdown",
   "metadata": {},
   "source": [
    "### But I really want partially-specialized functions!\n",
    "\n",
    "Sure you do, and there is a way based on what you have just learned.\n",
    "\n",
    "**Exercise**: Find a way to print something different for types `TestClass<T>` and `TestClass<TestClass<T>>` for an arbitrary type `T`, and a default way for any other type, by passing the object to print by reference.\n",
    "\n",
    "&emsp;**Bonus**: Try to do the task of printing without spending a single byte in memory."
   ]
  },
  {
   "cell_type": "markdown",
   "metadata": {},
   "source": [
    "### One possible solution\n",
    "\n",
    "```\n",
    "template<typename T> struct print_value_s{\n",
    "  static void op(T const& x){\n",
    "    std::cout << \"Generic value of x = \" << x << std::endl;\n",
    "  }\n",
    "};\n",
    "template<typename T> struct print_value_s<TestClass<T>>{\n",
    "  static void op(TestClass<T> const& x){\n",
    "    std::cout << \"TestClass<T>.x = \" << x << std::endl;\n",
    "  }\n",
    "};\n",
    "template<typename T> struct print_value_s<TestClass<TestClass<T>>>{\n",
    "  static void op(TestClass<TestClass<T>> const& x){\n",
    "    std::cout << \"TestClass<TestClass<T>>.x = \" << x << std::endl;\n",
    "  }\n",
    "};\n",
    "template<typename T> void print_value(T const& x){ print_value_s<T>::op(x); }\n",
    "// Without the bonus: Remove the static qualifiers, and define last function as\n",
    "// template<typename T> void print_value(T const& x){ print_value_s<T>().op(x); }\n",
    "```"
   ]
  },
  {
   "cell_type": "markdown",
   "metadata": {},
   "source": [
    "## \"Substitution Failure Is Not An Error\" (SFINAE)\n",
    "\n",
    "Templated constructs can be used in conjunction with what is known as \"Substitution Failure Is Not An Error\" (SFINAE) to allow different template overloads.\n",
    "\n",
    "Let's go over the example from https://en.cppreference.com/w/cpp/language/sfinae:\n",
    "\n",
    "```\n",
    "#include <iostream>\n",
    " \n",
    "// This overload is added to the set of overloads if C is\n",
    "// a class or reference-to-class type and F is a pointer to member function of C\n",
    "template<class C, class F>\n",
    "auto test(C c, F f) -> decltype((void)(c.*f)(), void()){\n",
    "  std::cout << \"(1) Class/class reference overload called\\n\";\n",
    "}\n",
    " \n",
    "// This overload is added to the set of overloads if C is a\n",
    "// pointer-to-class type and F is a pointer to member function of C\n",
    "template<class C, class F>\n",
    "auto test(C c, F f) -> decltype((void)((c->*f)()), void()){\n",
    "  std::cout << \"(2) Pointer overload called\\n\";\n",
    "}\n",
    " \n",
    "// This overload is always in the set of overloads: ellipsis\n",
    "// parameter has the lowest ranking for overload resolution\n",
    "void test(...){\n",
    "  std::cout << \"(3) Catch-all overload called\\n\";\n",
    "}\n",
    " \n",
    "int main(){\n",
    "  struct X { void f() {} };\n",
    "  X x;\n",
    "  X& rx = x;\n",
    "  test(x, &X::f);  // (1)\n",
    "  test(rx, &X::f); // (1), creates a copy of x\n",
    "  test(&x, &X::f); // (2)\n",
    "  test(42, 1337);  // (3)\n",
    "}\n",
    "```\n",
    "Things to note in this example:\n",
    "1. The expression `(A, B)` in attempts to evaluate A, discards its result, and returns the result of evaluating B. This is the general use case of the *comma operator* in C++.\n",
    "1. `decltype` receives a single argument, but because of the comma operator, it appears as if taking two arguments. `decltype(..., void())` evaluates to `void`.\n",
    "1. Both template functions have the same signatures in their arguments. Normally, this would not be allowed. However, in the way their return types are specified, notice that `(c.*f)` and `(c->*f)` cannot evaluate correctly at the same time. If `C` is a class or class reference type, only `(c.*f)` can evaluate. If, on the other hand, `C` is of pointer type, `(c->*f)` would be the one that evaluates correctly. Because the remaining subsitution has failed and \"substitution failure is not an error\", the compiler discards the failed alternative, and the code compiles without a complaint!\n",
    "\n",
    "Here is another interesting way to overload template specializations of functions:\n",
    "```\n",
    "#include <iostream>\n",
    "#include <type_traits>\n",
    "\n",
    "struct Base_A{\n",
    "  int a;\n",
    "  Base_A(int a) : a(a){}\n",
    "}\n",
    "struct Base_B{\n",
    "  double b;\n",
    "  Base_A(double b) : b(b){}\n",
    "}\n",
    "\n",
    "template< typename T, std::enable_if_t<std::is_arithmetic_v<T>, bool> = true > void print_value(T const& x){ std::cout << \"Arithmetic x = \" << x << std::endl; } // (1)\n",
    "template< typename T, std::enable_if_t<std::is_base_of_v<Base_A, T>, bool> = true > void print_value(T const& x){ std::cout << \"x.a = \" << x.a << std::endl; } // (2)\n",
    "template< typename T, std::enable_if_t<std::is_base_of_v<Base_B, T>, bool> = true > void print_value(T const& x){ std::cout << \"x.b = \" << x.b << std::endl; } // (3)\n",
    "\n",
    "int main(){\n",
    "  print_value(3); // Calls (1)\n",
    "  print_value(Base_A(3)); // Calls (2)\n",
    "  print_value(Base_B(3)); // Calls (3)\n",
    "}\n",
    "```\n",
    "Here, `enable_if_t<...>` is a shorthand for `typename enable_if<...>::type`.\n",
    "\n",
    "`enable_if` has the type `type` defined as the second argument passed if the first argument evaluates to `true`. Otherwise, there is no type definition `type`.\n",
    "\n",
    "For example, `std::is_base_of_v<Base_A, int> = false`, so `std::enable_if_t<std::is_base_of_v<Base_A, T>, bool> = true` evaluates to `std::enable_if_t<false, bool> = true` $\\to$ `(undefined substitution) = true`. Since SFINAE, the compiler ignores this option and searches for another possibility.\n",
    "\n",
    "When evaluating `std::enable_if_t<std::is_arithmetic_v<T>, bool> = true`, `std::is_arithmetic_v<int> = true`, so `std::enable_if_t<std::is_arithmetic_v<T>, bool> = true` $\\to$ `bool = true`. There is no substitution failure in this option, so the compiler happily picks it."
   ]
  },
  {
   "cell_type": "markdown",
   "metadata": {},
   "source": []
  }
 ],
 "metadata": {
  "kernelspec": {
   "display_name": "Python 3",
   "language": "python",
   "name": "python3"
  },
  "language_info": {
   "codemirror_mode": {
    "name": "ipython",
    "version": 3
   },
   "file_extension": ".py",
   "mimetype": "text/x-python",
   "name": "python",
   "nbconvert_exporter": "python",
   "pygments_lexer": "ipython3",
   "version": "3.10.11"
  }
 },
 "nbformat": 4,
 "nbformat_minor": 2
}
