{
 "cells": [
  {
   "cell_type": "markdown",
   "metadata": {},
   "source": [
    "### Solution: The *Tower of Hanoi* problem\n",
    "\n",
    "The basic recursive formulation for $n$ disks is to transfer $(n-1)$ of those at the top to the spare pole, transfer the $n^\\text{th}$ disk to the destination, and then transfer the $n-1$ stack to the destination."
   ]
  },
  {
   "cell_type": "code",
   "execution_count": 2,
   "metadata": {},
   "outputs": [
    {
     "name": "stdout",
     "output_type": "stream",
     "text": [
      "Operations for n = 2:\n",
      "Move disk 1 from rod 0 to rod 1.\n",
      "Move disk 2 from rod 0 to rod 2.\n",
      "Move disk 1 from rod 1 to rod 2.\n",
      "Operations for n = 3:\n",
      "Move disk 1 from rod 0 to rod 2.\n",
      "Move disk 2 from rod 0 to rod 1.\n",
      "Move disk 1 from rod 2 to rod 1.\n",
      "Move disk 3 from rod 0 to rod 2.\n",
      "Move disk 1 from rod 1 to rod 0.\n",
      "Move disk 2 from rod 1 to rod 2.\n",
      "Move disk 1 from rod 0 to rod 2.\n",
      "Operations for n = 4:\n",
      "Move disk 1 from rod 0 to rod 1.\n",
      "Move disk 2 from rod 0 to rod 2.\n",
      "Move disk 1 from rod 1 to rod 2.\n",
      "Move disk 3 from rod 0 to rod 1.\n",
      "Move disk 1 from rod 2 to rod 0.\n",
      "Move disk 2 from rod 2 to rod 1.\n",
      "Move disk 1 from rod 0 to rod 1.\n",
      "Move disk 4 from rod 0 to rod 2.\n",
      "Move disk 1 from rod 1 to rod 2.\n",
      "Move disk 2 from rod 1 to rod 0.\n",
      "Move disk 1 from rod 2 to rod 0.\n",
      "Move disk 3 from rod 1 to rod 2.\n",
      "Move disk 1 from rod 0 to rod 1.\n",
      "Move disk 2 from rod 0 to rod 2.\n",
      "Move disk 1 from rod 1 to rod 2.\n"
     ]
    }
   ],
   "source": [
    "def operation(n, src, dest):\n",
    "  aux = 3 - src - dest\n",
    "  if n == 1:\n",
    "    print(f\"Move disk 1 from rod {src} to rod {dest}.\")\n",
    "    return\n",
    "  operation(n - 1, src, aux)\n",
    "  print(f\"Move disk {n} from rod {src} to rod {dest}.\")\n",
    "  operation(n - 1, aux, dest)\n",
    "\n",
    "print(\"Operations for n = 2:\")\n",
    "operation(2, 0, 2)\n",
    "\n",
    "print(\"Operations for n = 3:\")\n",
    "operation(3, 0, 2)\n",
    "\n",
    "print(\"Operations for n = 4:\")\n",
    "operation(4, 0, 2)"
   ]
  },
  {
   "cell_type": "markdown",
   "metadata": {},
   "source": [
    "### Solution: Emulating partially-specialized functions"
   ]
  },
  {
   "cell_type": "markdown",
   "metadata": {},
   "source": [
    "```\n",
    "template<typename T> struct print_value_s{\n",
    "  static void op(T const& x){\n",
    "    std::cout << \"Generic value of x = \" << x << std::endl;\n",
    "  }\n",
    "};\n",
    "template<typename T> struct print_value_s<TestClass<T>>{\n",
    "  static void op(TestClass<T> const& x){\n",
    "    std::cout << \"TestClass<T>.x = \" << x << std::endl;\n",
    "  }\n",
    "};\n",
    "template<typename T> struct print_value_s<TestClass<TestClass<T>>>{\n",
    "  static void op(TestClass<TestClass<T>> const& x){\n",
    "    std::cout << \"TestClass<TestClass<T>>.x = \" << x << std::endl;\n",
    "  }\n",
    "};\n",
    "template<typename T> void print_value(T const& x){ print_value_s<T>::op(x); }\n",
    "// Without the bonus: Remove the static qualifiers, and define last function as\n",
    "// template<typename T> void print_value(T const& x){ print_value_s<T>().op(x); }\n",
    "```"
   ]
  },
  {
   "cell_type": "markdown",
   "metadata": {},
   "source": [
    "### Solution: Finding out whether a public member function (value()) exists"
   ]
  },
  {
   "cell_type": "markdown",
   "metadata": {},
   "source": [
    "```\n",
    "template<typename T> struct has_call_value{\n",
    "  struct invalid_call_type{};\n",
    "  template <typename U> static constexpr auto test(int) -> decltype(&U::value);\n",
    "  template <typename U> static constexpr auto test(...) -> invalid_call_type;\n",
    "  static constexpr bool value = !std_ttraits::is_same_v<invalid_call_type, decltype(test<T>(0))>;\n",
    "};\n",
    "template<typename T> inline constexpr bool has_call_value_v = has_call_value<T>::value;\n",
    "```"
   ]
  },
  {
   "cell_type": "markdown",
   "metadata": {},
   "source": [
    "### Solution: CRTP performance\n",
    "\n",
    "```\n",
    "#include <chrono>\n",
    "#include <iostream>\n",
    "\n",
    "\n",
    "class Base{\n",
    "public:\n",
    "  virtual void increment(int j) = 0;\n",
    "  virtual int value() = 0;\n",
    "};\n",
    "class Derived : public Base{\n",
    "private:\n",
    "  int v;\n",
    "public:\n",
    "  Derived() : v(0) {}\n",
    "  void increment(int j){ v += j; }\n",
    "  int value(){ return v; }\n",
    "};\n",
    "\n",
    "\n",
    "template<typename T> class Base_CRTP{\n",
    "public:\n",
    "  void increment(int j){ ((T*) this)->increment_impl(j); }\n",
    "  int value(){ return ((T*) this)->value_impl(); }\n",
    "};\n",
    "class Derived_CRTP : public Base_CRTP<Derived_CRTP>{\n",
    "private:\n",
    "  int v;\n",
    "public:\n",
    "  Derived_CRTP() : v(0) {}\n",
    "  void increment_impl(int j){ v += j; }\n",
    "  int value_impl(){ return v; }\n",
    "};\n",
    "\n",
    "\n",
    "template<typename T> void test(unsigned long long int n, T* obj, const char* name){\n",
    "  using namespace std;\n",
    "  auto t1 = chrono::high_resolution_clock::now();\n",
    "  for (unsigned long long int i=0; i<n; ++i) obj->increment(i);\n",
    "  cout << name << \" value: \" << obj->value() << endl;\n",
    "  auto t2 = chrono::high_resolution_clock::now();\n",
    "  auto diff = chrono::duration_cast<chrono::microseconds>(t2-t1).count();\n",
    "  cout << \"- Duration: \" << diff << \" mus\" << endl;\n",
    "}\n",
    "\n",
    "int main(){\n",
    "  constexpr unsigned long long int n = 100000000;\n",
    "  Base* d = new Derived();\n",
    "  test(n, d, \"Non-CRTP object\");\n",
    "  delete d;\n",
    "\n",
    "  Base_CRTP<Derived_CRTP>* dc = new Derived_CRTP();\n",
    "  test(n, dc, \"CRTP object\");\n",
    "  delete dc;\n",
    "}\n",
    "```\n",
    "\n",
    "With optimization flags `-O3` for `gcc`, you should observe that the CRTP implementation is a factor of about two faster."
   ]
  }
 ],
 "metadata": {
  "kernelspec": {
   "display_name": "Python 3",
   "language": "python",
   "name": "python3"
  },
  "language_info": {
   "codemirror_mode": {
    "name": "ipython",
    "version": 3
   },
   "file_extension": ".py",
   "mimetype": "text/x-python",
   "name": "python",
   "nbconvert_exporter": "python",
   "pygments_lexer": "ipython3",
   "version": "3.10.11"
  }
 },
 "nbformat": 4,
 "nbformat_minor": 2
}
